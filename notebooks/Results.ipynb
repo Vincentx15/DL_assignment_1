{
 "cells": [
  {
   "cell_type": "code",
   "execution_count": 1,
   "metadata": {
    "ExecuteTime": {
     "end_time": "2019-02-13T18:13:22.348577Z",
     "start_time": "2019-02-13T18:13:21.805671Z"
    }
   },
   "outputs": [
    {
     "name": "stdout",
     "output_type": "stream",
     "text": [
      "Populating the interactive namespace from numpy and matplotlib\n"
     ]
    }
   ],
   "source": [
    "%pylab inline"
   ]
  },
  {
   "cell_type": "code",
   "execution_count": 2,
   "metadata": {
    "ExecuteTime": {
     "end_time": "2019-02-13T18:13:22.354033Z",
     "start_time": "2019-02-13T18:13:22.350901Z"
    }
   },
   "outputs": [],
   "source": [
    "import sys, os\n",
    "sys.path.append(os.path.abspath(\"../\"))"
   ]
  },
  {
   "cell_type": "code",
   "execution_count": 3,
   "metadata": {
    "ExecuteTime": {
     "end_time": "2019-02-13T18:13:22.752325Z",
     "start_time": "2019-02-13T18:13:22.356071Z"
    }
   },
   "outputs": [],
   "source": [
    "import pandas as pd\n",
    "import numpy as np\n",
    "\n",
    "import torch"
   ]
  },
  {
   "cell_type": "code",
   "execution_count": 4,
   "metadata": {
    "ExecuteTime": {
     "end_time": "2019-02-13T18:13:22.766259Z",
     "start_time": "2019-02-13T18:13:22.755680Z"
    }
   },
   "outputs": [],
   "source": [
    "# LaTeX rendering in graphs\n",
    "try:\n",
    "    plt.rc('text', usetex=True)\n",
    "except:\n",
    "    pass\n",
    "\n",
    "plt.rc('font', family='serif')\n",
    "\n",
    "# High resolution graphs\n",
    "%config InlineBackend.figure_format = 'retina'"
   ]
  },
  {
   "cell_type": "code",
   "execution_count": 5,
   "metadata": {
    "ExecuteTime": {
     "end_time": "2019-02-13T18:13:22.935168Z",
     "start_time": "2019-02-13T18:13:22.932164Z"
    }
   },
   "outputs": [],
   "source": [
    "device = torch.device(\"cuda:0\" if torch.cuda.is_available() else \"cpu\")"
   ]
  },
  {
   "cell_type": "markdown",
   "metadata": {},
   "source": [
    "# Some useful functions"
   ]
  },
  {
   "cell_type": "code",
   "execution_count": 6,
   "metadata": {
    "ExecuteTime": {
     "end_time": "2019-02-13T18:13:24.567383Z",
     "start_time": "2019-02-13T18:13:24.560406Z"
    }
   },
   "outputs": [],
   "source": [
    "def get_dataframe(run):\n",
    "    data = pd.read_json('../results/' + run + '/logs.json', lines=True)\n",
    "    data.set_index('epoch', inplace=True)\n",
    "    data = pd.concat(\n",
    "        [data.loc[data['phase'] == 'train'], data.loc[data['phase'] == 'valid']], \n",
    "        keys=['train', 'valid'], \n",
    "        axis=1\n",
    "    )\n",
    "    \n",
    "    # We used to print epochs from 0 to n\n",
    "    if data.index.values.min() == 0:\n",
    "        data.index = [x + 1 if x == int(x) else x for x in data.index.values]\n",
    "        data.sort_index(inplace=True)\n",
    "    \n",
    "    best_acc = data['valid', 'accuracy'].max() * 100\n",
    "    best_acc_train = data['train', 'accuracy'].max() * 100\n",
    "    \n",
    "    print('Best train accuracy for {}: {:.2f}%'.format(run, best_acc_train))\n",
    "    print('Best valid accuracy for {}: {:.2f}%'.format(run, best_acc))\n",
    "    \n",
    "    return data.drop('phase', axis=1, level=1)"
   ]
  },
  {
   "cell_type": "code",
   "execution_count": 7,
   "metadata": {
    "ExecuteTime": {
     "end_time": "2019-02-13T18:13:24.750812Z",
     "start_time": "2019-02-13T18:13:24.740476Z"
    }
   },
   "outputs": [],
   "source": [
    "def show_metric(data, metric, run='', save=False):\n",
    "    plt.figure(figsize=(8, 5))\n",
    "    \n",
    "    for phase in ['train', 'valid']:\n",
    "        d = data.xs([phase, metric], level=[0, 1], axis=1).dropna()\n",
    "        \n",
    "        if metric == 'accuracy':\n",
    "            d *= 100\n",
    "            \n",
    "        plt.plot(d, label=phase)\n",
    "    plt.legend()\n",
    "    \n",
    "    title = metric + ' for ' + run if len(run) > 0 else metric\n",
    "    # plt.title(title)\n",
    "    \n",
    "    if metric == 'accuracy':\n",
    "        plt.ylabel(r'Accuracy (\\%)')\n",
    "    else:\n",
    "        plt.ylabel('Loss')\n",
    "        \n",
    "    plt.xlabel(r'Number of epochs')\n",
    "\n",
    "    # plt.ylim(50, 100)\n",
    "    \n",
    "    if save:\n",
    "        plt.savefig('outputs/' + run + '-' + metric + '.pdf', bbox_inches='tight')"
   ]
  },
  {
   "cell_type": "markdown",
   "metadata": {},
   "source": [
    "# Exploring results"
   ]
  },
  {
   "cell_type": "code",
   "execution_count": 11,
   "metadata": {
    "ExecuteTime": {
     "end_time": "2019-02-13T18:13:55.435405Z",
     "start_time": "2019-02-13T18:13:55.425518Z"
    }
   },
   "outputs": [],
   "source": [
    "data = pd.read_json('../logs.json', lines=True)"
   ]
  },
  {
   "cell_type": "code",
   "execution_count": 12,
   "metadata": {
    "ExecuteTime": {
     "end_time": "2019-02-13T18:13:55.879814Z",
     "start_time": "2019-02-13T18:13:55.871906Z"
    }
   },
   "outputs": [],
   "source": [
    "data['epoch'] = data['epoch'] + 1\n",
    "data.set_index('epoch', inplace=True)"
   ]
  },
  {
   "cell_type": "code",
   "execution_count": 15,
   "metadata": {
    "ExecuteTime": {
     "end_time": "2019-02-13T18:14:35.158498Z",
     "start_time": "2019-02-13T18:14:34.884211Z"
    }
   },
   "outputs": [
    {
     "data": {
      "image/png": "[encoded data removed]",
      "text/plain": [
       "<Figure size 432x288 with 1 Axes>"
      ]
     },
     "metadata": {
      "image/png": {
       "height": 263,
       "width": 381
      },
      "needs_background": "light"
     },
     "output_type": "display_data"
    }
   ],
   "source": [
    "plt.figure()\n",
    "plt.plot(data['accuracy'] * 100)\n",
    "plt.xlabel('Epoch')\n",
    "plt.ylabel(r'Accuracy (\\%)')\n",
    "plt.xticks(list(range(1, 11)))\n",
    "plt.savefig('toycnn-training.pdf', bbox_inches='tight')\n",
    "plt.show()"
   ]
  },
  {
   "cell_type": "code",
   "execution_count": null,
   "metadata": {},
   "outputs": [],
   "source": []
  }
 ],
 "metadata": {
  "anaconda-cloud": {},
  "kernelspec": {
   "display_name": "Python 3",
   "language": "python",
   "name": "python3"
  },
  "language_info": {
   "codemirror_mode": {
    "name": "ipython",
    "version": 3
   },
   "file_extension": ".py",
   "mimetype": "text/x-python",
   "name": "python",
   "nbconvert_exporter": "python",
   "pygments_lexer": "ipython3",
   "version": "3.7.1"
  },
  "toc": {
   "base_numbering": 1,
   "nav_menu": {},
   "number_sections": true,
   "sideBar": true,
   "skip_h1_title": false,
   "title_cell": "Table of Contents",
   "title_sidebar": "Contents",
   "toc_cell": false,
   "toc_position": {},
   "toc_section_display": true,
   "toc_window_display": false
  }
 },
 "nbformat": 4,
 "nbformat_minor": 2
}
