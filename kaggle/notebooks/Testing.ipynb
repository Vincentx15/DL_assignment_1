{
 "cells": [
  {
   "cell_type": "code",
   "execution_count": 1,
   "metadata": {
    "ExecuteTime": {
     "end_time": "2019-02-14T19:05:57.899196Z",
     "start_time": "2019-02-14T19:05:57.895336Z"
    }
   },
   "outputs": [],
   "source": [
    "import sys, os\n",
    "sys.path.append(os.path.abspath(\"../src/\"))"
   ]
  },
  {
   "cell_type": "code",
   "execution_count": 2,
   "metadata": {
    "ExecuteTime": {
     "end_time": "2019-02-14T19:05:59.318700Z",
     "start_time": "2019-02-14T19:05:58.620629Z"
    }
   },
   "outputs": [],
   "source": [
    "%reload_ext autoreload\n",
    "%autoreload 2\n",
    "\n",
    "import utils.dataset as dataset\n",
    "import utils.evaluation as evaluation"
   ]
  },
  {
   "cell_type": "code",
   "execution_count": 3,
   "metadata": {
    "ExecuteTime": {
     "end_time": "2019-02-14T19:05:59.729199Z",
     "start_time": "2019-02-14T19:05:59.321253Z"
    }
   },
   "outputs": [],
   "source": [
    "import pandas as pd\n",
    "import numpy as np\n",
    "import matplotlib.pyplot as plt\n",
    "\n",
    "import torch\n",
    "\n",
    "from torch.utils.data import DataLoader, Subset\n",
    "from torchvision import transforms"
   ]
  },
  {
   "cell_type": "code",
   "execution_count": 4,
   "metadata": {
    "ExecuteTime": {
     "end_time": "2019-02-14T19:05:59.779178Z",
     "start_time": "2019-02-14T19:05:59.731602Z"
    }
   },
   "outputs": [],
   "source": [
    "# LaTeX rendering in graphs\n",
    "try:\n",
    "    plt.rc('text', usetex=True)\n",
    "except:\n",
    "    pass\n",
    "\n",
    "plt.rc('font', family='serif')\n",
    "\n",
    "# High resolution graphs\n",
    "%config InlineBackend.figure_format = 'retina'"
   ]
  },
  {
   "cell_type": "code",
   "execution_count": 5,
   "metadata": {
    "ExecuteTime": {
     "end_time": "2019-02-14T19:06:00.207007Z",
     "start_time": "2019-02-14T19:06:00.174447Z"
    }
   },
   "outputs": [],
   "source": [
    "device = torch.device(\"cuda:0\" if torch.cuda.is_available() else \"cpu\")"
   ]
  },
  {
   "cell_type": "code",
   "execution_count": 7,
   "metadata": {
    "ExecuteTime": {
     "end_time": "2019-02-14T19:06:19.996959Z",
     "start_time": "2019-02-14T19:06:19.967783Z"
    }
   },
   "outputs": [],
   "source": [
    "run = 'cnn'"
   ]
  },
  {
   "cell_type": "code",
   "execution_count": 8,
   "metadata": {
    "ExecuteTime": {
     "end_time": "2019-02-14T19:06:30.035402Z",
     "start_time": "2019-02-14T19:06:29.858528Z"
    }
   },
   "outputs": [
    {
     "name": "stderr",
     "output_type": "stream",
     "text": [
      "/Users/basile/miniconda3/envs/pytorch/lib/python3.7/site-packages/torch/serialization.py:435: SourceChangeWarning: source code of class 'models.cnn.Network' has changed. you can retrieve the original source code by accessing the object's source attribute or set `torch.nn.Module.dump_patches = True` and use the patch tool to revert the changes.\n",
      "  warnings.warn(msg, SourceChangeWarning)\n"
     ]
    }
   ],
   "source": [
    "# path = '../results/' + run + '/best_model.pth'\n",
    "path = '../models/' + run + '.pth'\n",
    "model = torch.load(path, map_location=device)"
   ]
  },
  {
   "cell_type": "code",
   "execution_count": 9,
   "metadata": {
    "ExecuteTime": {
     "end_time": "2019-02-14T19:06:44.038748Z",
     "start_time": "2019-02-14T19:06:44.000336Z"
    }
   },
   "outputs": [],
   "source": [
    "transform = transforms.Compose([\n",
    "    transforms.Resize(60),\n",
    "    transforms.ToTensor(),\n",
    "    transforms.Normalize([0.485, 0.456, 0.406], [0.229, 0.224, 0.225])\n",
    "])"
   ]
  },
  {
   "cell_type": "markdown",
   "metadata": {},
   "source": [
    "# Predictions"
   ]
  },
  {
   "cell_type": "code",
   "execution_count": 10,
   "metadata": {
    "ExecuteTime": {
     "end_time": "2019-02-14T19:06:46.855962Z",
     "start_time": "2019-02-14T19:06:46.757761Z"
    }
   },
   "outputs": [],
   "source": [
    "data = dataset.KaggleDataset('../data/testset/', transform=transform)"
   ]
  },
  {
   "cell_type": "code",
   "execution_count": 12,
   "metadata": {
    "ExecuteTime": {
     "end_time": "2019-02-14T19:06:58.260013Z",
     "start_time": "2019-02-14T19:06:58.223940Z"
    }
   },
   "outputs": [
    {
     "name": "stdout",
     "output_type": "stream",
     "text": [
      ">> 500 batches to evaluate\n"
     ]
    }
   ],
   "source": [
    "dataloader = torch.utils.data.DataLoader(data, batch_size=10)\n",
    "print('>> {} batches to evaluate'.format(len(dataloader)))"
   ]
  },
  {
   "cell_type": "code",
   "execution_count": null,
   "metadata": {
    "ExecuteTime": {
     "start_time": "2019-02-14T19:07:02.897Z"
    }
   },
   "outputs": [
    {
     "name": "stderr",
     "output_type": "stream",
     "text": [
      "Predicting:  85%|#########################################4       | 423/500 [02:52<00:38,  2.01it/s]"
     ]
    }
   ],
   "source": [
    "predictions = evaluation.predict(model, dataloader, device)"
   ]
  },
  {
   "cell_type": "code",
   "execution_count": null,
   "metadata": {
    "ExecuteTime": {
     "start_time": "2019-02-14T19:07:11.179Z"
    }
   },
   "outputs": [],
   "source": [
    "preds = pd.DataFrame(predictions, columns=['label'])\n",
    "preds.index = preds.index.values + 1\n",
    "preds.index.names = ['id']\n",
    "preds['label'] = preds['label'].apply(lambda x: 'Cat' if x == 0 else 'Dog')"
   ]
  },
  {
   "cell_type": "code",
   "execution_count": null,
   "metadata": {
    "ExecuteTime": {
     "start_time": "2019-02-14T19:07:11.521Z"
    }
   },
   "outputs": [],
   "source": [
    "preds.head()"
   ]
  },
  {
   "cell_type": "code",
   "execution_count": null,
   "metadata": {
    "ExecuteTime": {
     "start_time": "2019-02-14T19:07:17.008Z"
    }
   },
   "outputs": [],
   "source": [
    "preds.to_csv('outputs/submission.csv')"
   ]
  },
  {
   "cell_type": "markdown",
   "metadata": {},
   "source": [
    "# Comparison"
   ]
  },
  {
   "cell_type": "code",
   "execution_count": 9,
   "metadata": {
    "ExecuteTime": {
     "end_time": "2019-02-13T18:41:34.739871Z",
     "start_time": "2019-02-13T18:41:34.507231Z"
    }
   },
   "outputs": [],
   "source": [
    "data = dataset.KaggleDataset('../data/trainset/', transform=transform)\n",
    "data = Subset(data, indices=list(range(500)))"
   ]
  },
  {
   "cell_type": "code",
   "execution_count": 10,
   "metadata": {
    "ExecuteTime": {
     "end_time": "2019-02-13T18:41:35.701554Z",
     "start_time": "2019-02-13T18:41:35.667934Z"
    }
   },
   "outputs": [
    {
     "name": "stdout",
     "output_type": "stream",
     "text": [
      ">> 50 batches to evaluate\n"
     ]
    }
   ],
   "source": [
    "dataloader = torch.utils.data.DataLoader(data, batch_size=10)\n",
    "print('>> {} batches to evaluate'.format(len(dataloader)))"
   ]
  },
  {
   "cell_type": "code",
   "execution_count": 11,
   "metadata": {
    "ExecuteTime": {
     "end_time": "2019-02-13T18:41:55.308363Z",
     "start_time": "2019-02-13T18:41:36.323282Z"
    }
   },
   "outputs": [
    {
     "name": "stderr",
     "output_type": "stream",
     "text": [
      "Predicting: 100%|###################################################| 50/50 [00:18<00:00,  2.70it/s]\n"
     ]
    }
   ],
   "source": [
    "outputs, labels = evaluation.compare(model, dataloader, device)"
   ]
  },
  {
   "cell_type": "code",
   "execution_count": 35,
   "metadata": {
    "ExecuteTime": {
     "end_time": "2019-02-13T18:47:36.447033Z",
     "start_time": "2019-02-13T18:47:36.411905Z"
    }
   },
   "outputs": [],
   "source": [
    "wrong_class = np.array([output[1 - label] for output, label in zip(outputs, labels)])"
   ]
  },
  {
   "cell_type": "code",
   "execution_count": 36,
   "metadata": {
    "ExecuteTime": {
     "end_time": "2019-02-13T18:47:37.181387Z",
     "start_time": "2019-02-13T18:47:37.141801Z"
    }
   },
   "outputs": [
    {
     "data": {
      "text/plain": [
       "0.9998647"
      ]
     },
     "execution_count": 36,
     "metadata": {},
     "output_type": "execute_result"
    }
   ],
   "source": [
    "wrong_class.max()"
   ]
  },
  {
   "cell_type": "code",
   "execution_count": 37,
   "metadata": {
    "ExecuteTime": {
     "end_time": "2019-02-13T18:47:39.619718Z",
     "start_time": "2019-02-13T18:47:39.584046Z"
    }
   },
   "outputs": [],
   "source": [
    "i_star = wrong_class.argmax()"
   ]
  },
  {
   "cell_type": "markdown",
   "metadata": {},
   "source": [
    "Let's remove the transformations:"
   ]
  },
  {
   "cell_type": "code",
   "execution_count": 49,
   "metadata": {
    "ExecuteTime": {
     "end_time": "2019-02-13T18:50:09.273498Z",
     "start_time": "2019-02-13T18:50:09.239501Z"
    }
   },
   "outputs": [],
   "source": [
    "data.dataset.transform = None"
   ]
  },
  {
   "cell_type": "code",
   "execution_count": 50,
   "metadata": {
    "ExecuteTime": {
     "end_time": "2019-02-13T18:50:11.113450Z",
     "start_time": "2019-02-13T18:50:11.078011Z"
    }
   },
   "outputs": [],
   "source": [
    "sample_star = data[i_star]"
   ]
  },
  {
   "cell_type": "code",
   "execution_count": 51,
   "metadata": {
    "ExecuteTime": {
     "end_time": "2019-02-13T18:50:11.424924Z",
     "start_time": "2019-02-13T18:50:11.385462Z"
    }
   },
   "outputs": [
    {
     "data": {
      "text/plain": [
       "array([9.9986470e-01, 1.3523045e-04], dtype=float32)"
      ]
     },
     "execution_count": 51,
     "metadata": {},
     "output_type": "execute_result"
    }
   ],
   "source": [
    "outputs[i_star]"
   ]
  },
  {
   "cell_type": "code",
   "execution_count": 52,
   "metadata": {
    "ExecuteTime": {
     "end_time": "2019-02-13T18:50:11.873036Z",
     "start_time": "2019-02-13T18:50:11.837713Z"
    }
   },
   "outputs": [
    {
     "data": {
      "text/plain": [
       "1"
      ]
     },
     "execution_count": 52,
     "metadata": {},
     "output_type": "execute_result"
    }
   ],
   "source": [
    "sample_star['label']"
   ]
  },
  {
   "cell_type": "code",
   "execution_count": 53,
   "metadata": {
    "ExecuteTime": {
     "end_time": "2019-02-13T18:50:12.527713Z",
     "start_time": "2019-02-13T18:50:12.487334Z"
    }
   },
   "outputs": [
    {
     "data": {
      "image/png": "[encoded data removed]",
      "text/plain": [
       "<PIL.Image.Image image mode=RGB size=64x64 at 0x133C32A90>"
      ]
     },
     "execution_count": 53,
     "metadata": {},
     "output_type": "execute_result"
    }
   ],
   "source": [
    "sample_star['image']"
   ]
  },
  {
   "cell_type": "code",
   "execution_count": 101,
   "metadata": {
    "ExecuteTime": {
     "end_time": "2019-02-13T19:00:56.657524Z",
     "start_time": "2019-02-13T19:00:56.627038Z"
    }
   },
   "outputs": [],
   "source": [
    "candidates = np.arange(len(wrong_class))[(.1 < wrong_class) & (wrong_class < .8)]"
   ]
  },
  {
   "cell_type": "code",
   "execution_count": 102,
   "metadata": {
    "ExecuteTime": {
     "end_time": "2019-02-13T19:00:57.016048Z",
     "start_time": "2019-02-13T19:00:56.981139Z"
    }
   },
   "outputs": [
    {
     "data": {
      "text/plain": [
       "9"
      ]
     },
     "execution_count": 102,
     "metadata": {},
     "output_type": "execute_result"
    }
   ],
   "source": [
    "len(candidates)"
   ]
  },
  {
   "cell_type": "code",
   "execution_count": 103,
   "metadata": {
    "ExecuteTime": {
     "end_time": "2019-02-13T19:00:57.530201Z",
     "start_time": "2019-02-13T19:00:57.497483Z"
    }
   },
   "outputs": [
    {
     "data": {
      "text/plain": [
       "array([0.37240157, 0.6041632 , 0.1165431 , 0.12404354, 0.20101802,\n",
       "       0.14863971, 0.19474433, 0.35215965, 0.61484206], dtype=float32)"
      ]
     },
     "execution_count": 103,
     "metadata": {},
     "output_type": "execute_result"
    }
   ],
   "source": [
    "wrong_class[candidates]"
   ]
  },
  {
   "cell_type": "code",
   "execution_count": 104,
   "metadata": {
    "ExecuteTime": {
     "end_time": "2019-02-13T19:01:10.851016Z",
     "start_time": "2019-02-13T19:01:10.818019Z"
    }
   },
   "outputs": [],
   "source": [
    "i = -1"
   ]
  },
  {
   "cell_type": "code",
   "execution_count": 106,
   "metadata": {
    "ExecuteTime": {
     "end_time": "2019-02-13T19:01:26.925337Z",
     "start_time": "2019-02-13T19:01:26.885993Z"
    }
   },
   "outputs": [
    {
     "name": "stdout",
     "output_type": "stream",
     "text": [
      "1\n"
     ]
    },
    {
     "data": {
      "image/png": "[encoded data removed]",
      "text/plain": [
       "<PIL.Image.Image image mode=RGB size=64x64 at 0x133C5C0F0>"
      ]
     },
     "execution_count": 106,
     "metadata": {},
     "output_type": "execute_result"
    }
   ],
   "source": [
    "i += 1\n",
    "print(i)\n",
    "image = data[candidates[i]]['image']\n",
    "image.save('outputs/50-50_{}.jpg'.format(i))\n",
    "image"
   ]
  },
  {
   "cell_type": "code",
   "execution_count": null,
   "metadata": {},
   "outputs": [],
   "source": [
    "image.save('outputs/images_{}.jpg'.format(i))"
   ]
  },
  {
   "cell_type": "markdown",
   "metadata": {},
   "source": [
    "# Visualizing the convnet"
   ]
  },
  {
   "cell_type": "code",
   "execution_count": 181,
   "metadata": {
    "ExecuteTime": {
     "end_time": "2019-02-14T14:38:50.395701Z",
     "start_time": "2019-02-14T14:38:50.010343Z"
    }
   },
   "outputs": [],
   "source": [
    "data = dataset.KaggleDataset('../data/trainset/', transform=transform)\n",
    "untransformed = dataset.KaggleDataset('../data/trainset/')"
   ]
  },
  {
   "cell_type": "code",
   "execution_count": 182,
   "metadata": {
    "ExecuteTime": {
     "end_time": "2019-02-14T14:38:54.334185Z",
     "start_time": "2019-02-14T14:38:54.266492Z"
    }
   },
   "outputs": [
    {
     "data": {
      "text/plain": [
       "Network(\n",
       "  (conv1): Conv2d(3, 64, kernel_size=(3, 3), stride=(1, 1), padding=(1, 1))\n",
       "  (conv2): Conv2d(64, 128, kernel_size=(3, 3), stride=(1, 1), padding=(1, 1))\n",
       "  (conv3): Conv2d(128, 256, kernel_size=(3, 3), stride=(1, 1), padding=(1, 1))\n",
       "  (max): MaxPool2d(kernel_size=2, stride=2, padding=0, dilation=1, ceil_mode=False)\n",
       "  (conv4): Conv2d(256, 128, kernel_size=(3, 3), stride=(1, 1), padding=(1, 1))\n",
       "  (fc1): Linear(in_features=115200, out_features=500, bias=True)\n",
       "  (fc2): Linear(in_features=500, out_features=100, bias=True)\n",
       "  (classifier): Linear(in_features=100, out_features=2, bias=True)\n",
       ")"
      ]
     },
     "execution_count": 182,
     "metadata": {},
     "output_type": "execute_result"
    }
   ],
   "source": [
    "model"
   ]
  },
  {
   "cell_type": "markdown",
   "metadata": {},
   "source": [
    "## Feature maps"
   ]
  },
  {
   "cell_type": "markdown",
   "metadata": {},
   "source": [
    "Registering hooks in order to get the activation layers:"
   ]
  },
  {
   "cell_type": "code",
   "execution_count": 183,
   "metadata": {
    "ExecuteTime": {
     "end_time": "2019-02-14T14:39:17.788899Z",
     "start_time": "2019-02-14T14:39:17.715987Z"
    }
   },
   "outputs": [],
   "source": [
    "activation = {}\n",
    "def get_activation(name):\n",
    "    def hook(model, input, output):\n",
    "        activation[name] = output.detach()\n",
    "    return hook"
   ]
  },
  {
   "cell_type": "code",
   "execution_count": 184,
   "metadata": {
    "ExecuteTime": {
     "end_time": "2019-02-14T14:39:20.509251Z",
     "start_time": "2019-02-14T14:39:20.446562Z"
    }
   },
   "outputs": [],
   "source": [
    "for layer in ['conv1', 'conv2', 'conv3', 'conv4']:\n",
    "    model.conv1.register_forward_hook(get_activation(layer))"
   ]
  },
  {
   "cell_type": "markdown",
   "metadata": {},
   "source": [
    "Select an image to visualize:"
   ]
  },
  {
   "cell_type": "code",
   "execution_count": 187,
   "metadata": {
    "ExecuteTime": {
     "end_time": "2019-02-14T14:40:38.640538Z",
     "start_time": "2019-02-14T14:40:38.509598Z"
    }
   },
   "outputs": [
    {
     "data": {
      "image/png": "[encoded data removed]",
      "text/plain": [
       "<PIL.Image.Image image mode=RGB size=100x100 at 0x12ED8BCC0>"
      ]
     },
     "execution_count": 187,
     "metadata": {},
     "output_type": "execute_result"
    }
   ],
   "source": [
    "i = 10\n",
    "\n",
    "image = data[i]['image']\n",
    "image.unsqueeze_(0)\n",
    "\n",
    "# Visualizing the untransformed version:\n",
    "untransformed[i]['image'].resize((100, 100))"
   ]
  },
  {
   "cell_type": "markdown",
   "metadata": {},
   "source": [
    "Getting the activations"
   ]
  },
  {
   "cell_type": "code",
   "execution_count": 188,
   "metadata": {
    "ExecuteTime": {
     "end_time": "2019-02-14T14:41:46.093061Z",
     "start_time": "2019-02-14T14:41:45.959524Z"
    }
   },
   "outputs": [],
   "source": [
    "output = model(image)\n",
    "\n",
    "act = {}\n",
    "\n",
    "for layer in ['conv1', 'conv2', 'conv3', 'conv4']:\n",
    "    act[layer] = activation[layer].squeeze()"
   ]
  },
  {
   "cell_type": "markdown",
   "metadata": {},
   "source": [
    "We can now visualize the feature maps:"
   ]
  },
  {
   "cell_type": "code",
   "execution_count": 195,
   "metadata": {
    "ExecuteTime": {
     "end_time": "2019-02-14T14:43:32.861849Z",
     "start_time": "2019-02-14T14:43:32.797233Z"
    }
   },
   "outputs": [],
   "source": [
    "layer = 'conv4'"
   ]
  },
  {
   "cell_type": "code",
   "execution_count": 196,
   "metadata": {
    "ExecuteTime": {
     "end_time": "2019-02-14T14:43:33.045115Z",
     "start_time": "2019-02-14T14:43:32.979288Z"
    }
   },
   "outputs": [],
   "source": [
    "i = -1"
   ]
  },
  {
   "cell_type": "code",
   "execution_count": 228,
   "metadata": {
    "ExecuteTime": {
     "end_time": "2019-02-14T14:44:53.399311Z",
     "start_time": "2019-02-14T14:44:53.200017Z"
    }
   },
   "outputs": [
    {
     "name": "stdout",
     "output_type": "stream",
     "text": [
      "Layer: conv4\n",
      "Feature map #32\n"
     ]
    },
    {
     "data": {
      "image/png": "[encoded data removed]",
      "text/plain": [
       "<Figure size 432x288 with 1 Axes>"
      ]
     },
     "metadata": {
      "image/png": {
       "height": 250,
       "width": 250
      },
      "needs_background": "light"
     },
     "output_type": "display_data"
    }
   ],
   "source": [
    "i += 1\n",
    "\n",
    "print('Layer: {}'.format(layer))\n",
    "print('Feature map #{}'.format(i + 1))\n",
    "\n",
    "plt.imshow(act[layer][i])\n",
    "plt.show()"
   ]
  },
  {
   "cell_type": "markdown",
   "metadata": {},
   "source": [
    "## Kernels"
   ]
  },
  {
   "cell_type": "markdown",
   "metadata": {},
   "source": [
    "For example, the first convolutional layer:"
   ]
  },
  {
   "cell_type": "code",
   "execution_count": 229,
   "metadata": {
    "ExecuteTime": {
     "end_time": "2019-02-14T14:45:50.027209Z",
     "start_time": "2019-02-14T14:45:49.962127Z"
    }
   },
   "outputs": [],
   "source": [
    "kernels = model.conv1.weight.detach()"
   ]
  },
  {
   "cell_type": "code",
   "execution_count": 230,
   "metadata": {
    "ExecuteTime": {
     "end_time": "2019-02-14T14:45:50.763193Z",
     "start_time": "2019-02-14T14:45:50.529756Z"
    }
   },
   "outputs": [
    {
     "data": {
      "text/plain": [
       "<matplotlib.image.AxesImage at 0x134b6fcc0>"
      ]
     },
     "execution_count": 230,
     "metadata": {},
     "output_type": "execute_result"
    },
    {
     "data": {
      "image/png": "[encoded data removed]",
      "text/plain": [
       "<Figure size 432x288 with 1 Axes>"
      ]
     },
     "metadata": {
      "image/png": {
       "height": 252,
       "width": 265
      },
      "needs_background": "light"
     },
     "output_type": "display_data"
    }
   ],
   "source": [
    "plt.imshow(normalize_output(kernels[1]), cmap='gray')"
   ]
  },
  {
   "cell_type": "code",
   "execution_count": 231,
   "metadata": {
    "ExecuteTime": {
     "end_time": "2019-02-14T14:45:57.010175Z",
     "start_time": "2019-02-14T14:45:56.938534Z"
    }
   },
   "outputs": [
    {
     "data": {
      "image/png": "[encoded data removed]",
      "text/plain": [
       "<PIL.Image.Image image mode=RGB size=60x60 at 0x13B5172E8>"
      ]
     },
     "execution_count": 231,
     "metadata": {},
     "output_type": "execute_result"
    }
   ],
   "source": [
    "i += 1\n",
    "transforms.functional.to_pil_image(kernels[i]).resize((60, 60))"
   ]
  },
  {
   "cell_type": "code",
   "execution_count": null,
   "metadata": {},
   "outputs": [],
   "source": []
  }
 ],
 "metadata": {
  "anaconda-cloud": {},
  "kernelspec": {
   "display_name": "Python 3",
   "language": "python",
   "name": "python3"
  },
  "language_info": {
   "codemirror_mode": {
    "name": "ipython",
    "version": 3
   },
   "file_extension": ".py",
   "mimetype": "text/x-python",
   "name": "python",
   "nbconvert_exporter": "python",
   "pygments_lexer": "ipython3",
   "version": "3.7.1"
  },
  "toc": {
   "base_numbering": 1,
   "nav_menu": {},
   "number_sections": true,
   "sideBar": true,
   "skip_h1_title": false,
   "title_cell": "Table of Contents",
   "title_sidebar": "Contents",
   "toc_cell": false,
   "toc_position": {},
   "toc_section_display": true,
   "toc_window_display": false
  }
 },
 "nbformat": 4,
 "nbformat_minor": 2
}
