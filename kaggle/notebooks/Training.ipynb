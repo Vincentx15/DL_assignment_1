{
 "cells": [
  {
   "cell_type": "markdown",
   "metadata": {
    "colab_type": "text",
    "id": "m6BANxeY6s6R"
   },
   "source": [
    "Set `colab` to `False` if the notebook is not running on Colab."
   ]
  },
  {
   "cell_type": "code",
   "execution_count": 0,
   "metadata": {
    "ExecuteTime": {
     "end_time": "2019-02-09T06:42:18.664968Z",
     "start_time": "2019-02-09T06:42:18.657617Z"
    },
    "colab": {},
    "colab_type": "code",
    "id": "DpAn02yN6g6C"
   },
   "outputs": [],
   "source": [
    "colab = True"
   ]
  },
  {
   "cell_type": "code",
   "execution_count": 0,
   "metadata": {
    "ExecuteTime": {
     "end_time": "2019-02-09T06:42:19.232209Z",
     "start_time": "2019-02-09T06:42:19.228839Z"
    },
    "colab": {},
    "colab_type": "code",
    "id": "2zhb-CcE6kr7"
   },
   "outputs": [],
   "source": [
    "if colab:\n",
    "    ROOT = '/content/gdrive/My Drive/Colab/kaggle/'\n",
    "else:\n",
    "    ROOT = '../'"
   ]
  },
  {
   "cell_type": "code",
   "execution_count": 0,
   "metadata": {
    "ExecuteTime": {
     "end_time": "2019-02-09T06:42:44.849335Z",
     "start_time": "2019-02-09T06:42:44.844436Z"
    },
    "colab": {},
    "colab_type": "code",
    "id": "AP6cCogh0lGR"
   },
   "outputs": [],
   "source": [
    "MODULE_PATH = ROOT + 'src/'\n",
    "DATA_PATH = ROOT + 'data/'\n",
    "NOTEBOOK_PATH = ROOT + 'notebooks/'\n",
    "LOGS_PATH = ROOT + 'logs/'\n",
    "RESULTS_PATH = ROOT + 'results/'"
   ]
  },
  {
   "cell_type": "markdown",
   "metadata": {
    "colab_type": "text",
    "id": "EWitSD-61U6r"
   },
   "source": [
    "## Access to Drive"
   ]
  },
  {
   "cell_type": "code",
   "execution_count": 4,
   "metadata": {
    "ExecuteTime": {
     "end_time": "2019-02-09T06:42:45.483744Z",
     "start_time": "2019-02-09T06:42:45.480938Z"
    },
    "colab": {
     "base_uri": "https://localhost:8080/",
     "height": 122
    },
    "colab_type": "code",
    "executionInfo": {
     "elapsed": 21108,
     "status": "ok",
     "timestamp": 1549852697412,
     "user": {
      "displayName": "Basile Dura",
      "photoUrl": "https://lh5.googleusercontent.com/-VYKwAw35RKU/AAAAAAAAAAI/AAAAAAAAS-Q/tpwWee7Y2yA/s64/photo.jpg",
      "userId": "10273963106894465933"
     },
     "user_tz": 300
    },
    "id": "XqjI1tOa1YdP",
    "outputId": "a28e0fe7-2acc-463c-e4f6-6e91d146ce07"
   },
   "outputs": [
    {
     "name": "stdout",
     "output_type": "stream",
     "text": [
      "Go to this URL in a browser: https://accounts.google.com/o/oauth2/auth?client_id=947318989803-6bn6qk8qdgf4n4g3pfee6491hc0brc4i.apps.googleusercontent.com&redirect_uri=urn%3Aietf%3Awg%3Aoauth%3A2.0%3Aoob&scope=email%20https%3A%2F%2Fwww.googleapis.com%2Fauth%2Fdocs.test%20https%3A%2F%2Fwww.googleapis.com%2Fauth%2Fdrive%20https%3A%2F%2Fwww.googleapis.com%2Fauth%2Fdrive.photos.readonly%20https%3A%2F%2Fwww.googleapis.com%2Fauth%2Fpeopleapi.readonly&response_type=code\n",
      "\n",
      "Enter your authorization code:\n",
      "··········\n",
      "Mounted at /content/gdrive\n"
     ]
    }
   ],
   "source": [
    "if colab:\n",
    "    from google.colab import drive\n",
    "    drive.mount('/content/gdrive')"
   ]
  },
  {
   "cell_type": "markdown",
   "metadata": {
    "colab_type": "text",
    "id": "ilgdREYW1bIO"
   },
   "source": [
    "## Installations"
   ]
  },
  {
   "cell_type": "code",
   "execution_count": 0,
   "metadata": {
    "ExecuteTime": {
     "end_time": "2019-02-09T06:42:45.794030Z",
     "start_time": "2019-02-09T06:42:45.790899Z"
    },
    "colab": {},
    "colab_type": "code",
    "id": "_61Rhpbx1fVG"
   },
   "outputs": [],
   "source": [
    "if colab:\n",
    "    get_ipython().system_raw('pip install torch torchvision pillow==4.1.1')"
   ]
  },
  {
   "cell_type": "code",
   "execution_count": 0,
   "metadata": {
    "colab": {},
    "colab_type": "code",
    "id": "ye-0SMv_avtx"
   },
   "outputs": [],
   "source": [
    "if colab:\n",
    "    get_ipython().system_raw('mkdir data')\n",
    "    get_ipython().system_raw('unzip \"{path}\" -d data'.format(path=DATA_PATH + 'trainset.zip'))\n",
    "    DATA_PATH = 'data/trainset/'"
   ]
  },
  {
   "cell_type": "markdown",
   "metadata": {
    "colab_type": "text",
    "id": "dYszxiOA2Emi"
   },
   "source": [
    "# Import statements"
   ]
  },
  {
   "cell_type": "markdown",
   "metadata": {
    "colab_type": "text",
    "id": "hkmlq06j2HzJ"
   },
   "source": [
    "## Access to modules"
   ]
  },
  {
   "cell_type": "code",
   "execution_count": 0,
   "metadata": {
    "ExecuteTime": {
     "end_time": "2019-02-09T06:42:46.854679Z",
     "start_time": "2019-02-09T06:42:46.850294Z"
    },
    "colab": {},
    "colab_type": "code",
    "id": "AZwO3vOb0Zb1"
   },
   "outputs": [],
   "source": [
    "import sys\n",
    "import os"
   ]
  },
  {
   "cell_type": "code",
   "execution_count": 0,
   "metadata": {
    "ExecuteTime": {
     "end_time": "2019-02-09T06:42:47.268667Z",
     "start_time": "2019-02-09T06:42:47.264847Z"
    },
    "colab": {},
    "colab_type": "code",
    "id": "Jn_zdcfg0Zb5"
   },
   "outputs": [],
   "source": [
    "sys.path.append(os.path.abspath(MODULE_PATH))"
   ]
  },
  {
   "cell_type": "markdown",
   "metadata": {
    "colab_type": "text",
    "id": "sEtbIgYD21Vn"
   },
   "source": [
    "## Importation of modules"
   ]
  },
  {
   "cell_type": "code",
   "execution_count": 0,
   "metadata": {
    "ExecuteTime": {
     "end_time": "2019-02-09T06:46:43.629348Z",
     "start_time": "2019-02-09T06:46:43.559128Z"
    },
    "colab": {},
    "colab_type": "code",
    "id": "KMRuhoCD0Zb7"
   },
   "outputs": [],
   "source": [
    "# \"Magic\" commands for automatic reloading of module, perfect for prototyping\n",
    "%reload_ext autoreload\n",
    "%autoreload 2\n",
    "\n",
    "from utils.dataset import KaggleDataset\n",
    "from run import run_experiment\n",
    "from models import baseline\n",
    "\n",
    "import torchvision.transforms as transforms\n",
    "from torch.utils.data import Subset, DataLoader\n",
    "import torch.optim as optim\n",
    "import torch\n",
    "\n",
    "from models import baseline, cnn, resnet\n",
    "\n",
    "from utils import training\n",
    "\n",
    "import numpy as np\n",
    "\n",
    "import json\n",
    "\n",
    "import os"
   ]
  },
  {
   "cell_type": "markdown",
   "metadata": {
    "colab_type": "text",
    "id": "4VK4WsgzBWj3"
   },
   "source": [
    "# Training"
   ]
  },
  {
   "cell_type": "code",
   "execution_count": 9,
   "metadata": {
    "ExecuteTime": {
     "end_time": "2019-02-09T06:46:45.804169Z",
     "start_time": "2019-02-09T06:46:45.719510Z"
    },
    "colab": {
     "base_uri": "https://localhost:8080/",
     "height": 374
    },
    "colab_type": "code",
    "executionInfo": {
     "elapsed": 8410,
     "status": "ok",
     "timestamp": 1549842314245,
     "user": {
      "displayName": "Basile Dura",
      "photoUrl": "https://lh5.googleusercontent.com/-VYKwAw35RKU/AAAAAAAAAAI/AAAAAAAAS-Q/tpwWee7Y2yA/s64/photo.jpg",
      "userId": "10273963106894465933"
     },
     "user_tz": 300
    },
    "id": "jWy_Oi64BWj4",
    "outputId": "de2df182-1803-4c6f-83d7-de520629a18d"
   },
   "outputs": [
    {
     "data": {
      "text/plain": [
       "ResNet(\n",
       "  (conv1): Conv2d(3, 128, kernel_size=(3, 3), stride=(1, 1), padding=(1, 1))\n",
       "  (blocks): Sequential(\n",
       "    (0): Block(\n",
       "      (conv1): Conv2d(128, 128, kernel_size=(3, 3), stride=(1, 1), padding=(1, 1))\n",
       "      (conv2): Conv2d(128, 128, kernel_size=(3, 3), stride=(1, 1), padding=(1, 1))\n",
       "    )\n",
       "    (1): Block(\n",
       "      (conv1): Conv2d(128, 128, kernel_size=(3, 3), stride=(1, 1), padding=(1, 1))\n",
       "      (conv2): Conv2d(128, 128, kernel_size=(3, 3), stride=(1, 1), padding=(1, 1))\n",
       "    )\n",
       "    (2): Block(\n",
       "      (conv1): Conv2d(128, 128, kernel_size=(3, 3), stride=(1, 1), padding=(1, 1))\n",
       "      (conv2): Conv2d(128, 128, kernel_size=(3, 3), stride=(1, 1), padding=(1, 1))\n",
       "    )\n",
       "  )\n",
       "  (max): MaxPool2d(kernel_size=2, stride=2, padding=0, dilation=1, ceil_mode=False)\n",
       "  (conv2): Conv2d(128, 32, kernel_size=(3, 3), stride=(1, 1), padding=(1, 1))\n",
       "  (fc1): Linear(in_features=32768, out_features=100, bias=True)\n",
       "  (fc2): Linear(in_features=100, out_features=7, bias=True)\n",
       ")"
      ]
     },
     "execution_count": 9,
     "metadata": {
      "tags": []
     },
     "output_type": "execute_result"
    }
   ],
   "source": [
    "model = resnet.ResNet(num_blocks=3, channels=128)\n",
    "model"
   ]
  },
  {
   "cell_type": "code",
   "execution_count": 0,
   "metadata": {
    "ExecuteTime": {
     "end_time": "2019-02-09T06:46:46.948425Z",
     "start_time": "2019-02-09T06:46:46.887549Z"
    },
    "colab": {},
    "colab_type": "code",
    "id": "eM3U3b8hJFeX"
   },
   "outputs": [],
   "source": [
    "config = {\n",
    "    'name': 'big-resnet',\n",
    "    'split': 0.9,\n",
    "    'size': 64,\n",
    "    'random': True,\n",
    "    'seed': 0,\n",
    "    'n_epochs': 100,\n",
    "    'wall_time': 2,\n",
    "    'batch_size': 100,\n",
    "    'learning_rate': 1e-3,\n",
    "    'log_interval': 10\n",
    "}\n",
    "\n",
    "config['save'] = RESULTS_PATH + config['name'] + '/best_model_temp.pth'"
   ]
  },
  {
   "cell_type": "code",
   "execution_count": 12,
   "metadata": {
    "ExecuteTime": {
     "end_time": "2019-02-09T06:47:24.336875Z",
     "start_time": "2019-02-09T06:47:20.048032Z"
    },
    "colab": {
     "base_uri": "https://localhost:8080/",
     "height": 2227
    },
    "colab_type": "code",
    "executionInfo": {
     "elapsed": 3487911,
     "status": "ok",
     "timestamp": 1549849111341,
     "user": {
      "displayName": "Basile Dura",
      "photoUrl": "https://lh5.googleusercontent.com/-VYKwAw35RKU/AAAAAAAAAAI/AAAAAAAAS-Q/tpwWee7Y2yA/s64/photo.jpg",
      "userId": "10273963106894465933"
     },
     "user_tz": 300
    },
    "id": "0IKJ5bPbBWj9",
    "outputId": "f88d8b91-1d9d-4681-d4c4-8fe6a8f5ed51"
   },
   "outputs": [
    {
     "name": "stdout",
     "output_type": "stream",
     "text": [
      ">> Total batch number for training: 180\n",
      ">> Total batch number for validation: 20\n",
      "\n",
      "Epoch 1/100\n",
      "----------\n",
      "train Loss: 0.8224 Acc: 0.5229 (4m 18s)\n",
      "valid Loss: 0.6980 Acc: 0.5010 (4m 30s)\n",
      "\n",
      "Epoch 2/100\n",
      "----------\n",
      "train Loss: 0.6908 Acc: 0.5489 (8m 49s)\n",
      "valid Loss: 0.6892 Acc: 0.5130 (9m 1s)\n",
      "\n",
      "Epoch 3/100\n",
      "----------\n",
      "train Loss: 0.6860 Acc: 0.5548 (13m 20s)\n",
      "valid Loss: 0.6824 Acc: 0.5760 (13m 31s)\n",
      "\n",
      "Epoch 4/100\n",
      "----------\n",
      "train Loss: 0.6831 Acc: 0.5613 (17m 50s)\n",
      "valid Loss: 0.6846 Acc: 0.5470 (18m 2s)\n",
      "\n",
      "Epoch 5/100\n",
      "----------\n",
      "train Loss: 0.6806 Acc: 0.5711 (22m 21s)\n",
      "valid Loss: 0.6819 Acc: 0.5715 (22m 32s)\n",
      "\n",
      "Epoch 6/100\n",
      "----------\n",
      "train Loss: 0.6802 Acc: 0.5676 (26m 51s)\n",
      "valid Loss: 0.6803 Acc: 0.5730 (27m 2s)\n",
      "\n",
      "Epoch 7/100\n",
      "----------\n",
      "train Loss: 0.6775 Acc: 0.5752 (31m 22s)\n",
      "valid Loss: 0.6853 Acc: 0.5375 (31m 33s)\n",
      "\n",
      "Epoch 8/100\n",
      "----------\n",
      "train Loss: 0.6758 Acc: 0.5748 (35m 52s)\n",
      "valid Loss: 0.6866 Acc: 0.5605 (36m 3s)\n",
      "\n",
      "Epoch 9/100\n",
      "----------\n",
      "train Loss: 0.6739 Acc: 0.5863 (40m 22s)\n",
      "valid Loss: 0.6832 Acc: 0.5560 (40m 33s)\n",
      "\n",
      "Epoch 10/100\n",
      "----------\n",
      "train Loss: 0.6750 Acc: 0.5783 (44m 52s)\n",
      "valid Loss: 0.6735 Acc: 0.5865 (45m 4s)\n",
      "\n",
      "Epoch 11/100\n",
      "----------\n",
      "train Loss: 0.6684 Acc: 0.5928 (49m 24s)\n",
      "valid Loss: 0.6731 Acc: 0.5855 (49m 35s)\n",
      "\n",
      "Epoch 12/100\n",
      "----------\n",
      "train Loss: 0.6670 Acc: 0.5942 (53m 55s)\n",
      "valid Loss: 0.6723 Acc: 0.5885 (54m 7s)\n",
      "\n",
      "Epoch 13/100\n",
      "----------\n",
      "train Loss: 0.6662 Acc: 0.5966 (58m 27s)\n",
      "valid Loss: 0.6732 Acc: 0.5780 (58m 39s)\n",
      "\n",
      "Epoch 14/100\n",
      "----------\n",
      "train Loss: 0.6657 Acc: 0.5969 (62m 60s)\n",
      "valid Loss: 0.6752 Acc: 0.5810 (63m 11s)\n",
      "\n",
      "Epoch 15/100\n",
      "----------\n",
      "train Loss: 0.6651 Acc: 0.5946 (67m 33s)\n",
      "valid Loss: 0.6714 Acc: 0.5850 (67m 44s)\n",
      "\n",
      "Epoch 16/100\n",
      "----------\n",
      "train Loss: 0.6645 Acc: 0.5974 (72m 6s)\n",
      "valid Loss: 0.6723 Acc: 0.5835 (72m 17s)\n",
      "\n",
      "Epoch 17/100\n",
      "----------\n",
      "train Loss: 0.6640 Acc: 0.5999 (76m 36s)\n",
      "valid Loss: 0.6702 Acc: 0.5870 (76m 48s)\n",
      "\n",
      "Epoch 18/100\n",
      "----------\n",
      "train Loss: 0.6637 Acc: 0.5981 (81m 7s)\n",
      "valid Loss: 0.6699 Acc: 0.5955 (81m 19s)\n",
      "\n",
      "Epoch 19/100\n",
      "----------\n",
      "train Loss: 0.6632 Acc: 0.6020 (85m 38s)\n",
      "valid Loss: 0.6695 Acc: 0.5935 (85m 49s)\n",
      "\n",
      "Epoch 20/100\n",
      "----------\n",
      "train Loss: 0.6624 Acc: 0.5996 (90m 8s)\n",
      "valid Loss: 0.6704 Acc: 0.5900 (90m 20s)\n",
      "\n",
      "Epoch 21/100\n",
      "----------\n",
      "train Loss: 0.6607 Acc: 0.6030 (94m 41s)\n",
      "valid Loss: 0.6707 Acc: 0.5845 (94m 52s)\n",
      "\n",
      "Epoch 22/100\n",
      "----------\n",
      "train Loss: 0.6607 Acc: 0.6041 (99m 13s)\n",
      "valid Loss: 0.6713 Acc: 0.5830 (99m 24s)\n",
      "\n",
      "Epoch 23/100\n",
      "----------\n",
      "train Loss: 0.6602 Acc: 0.6035 (103m 46s)\n",
      "valid Loss: 0.6724 Acc: 0.5810 (103m 58s)\n",
      "\n",
      "Epoch 24/100\n",
      "----------\n",
      "train Loss: 0.6598 Acc: 0.6058 (108m 19s)\n",
      "valid Loss: 0.6703 Acc: 0.5820 (108m 30s)\n",
      "\n",
      "Epoch 25/100\n",
      "----------\n",
      "train Loss: 0.6595 Acc: 0.6050 (112m 51s)\n",
      "valid Loss: 0.6679 Acc: 0.5960 (113m 3s)\n",
      "\n",
      "Training complete in 1h 53m 3s\n",
      "Best val Acc: 0.596000\n"
     ]
    }
   ],
   "source": [
    "run_experiment(model=model, root_dir=ROOT, **config)"
   ]
  },
  {
   "cell_type": "code",
   "execution_count": 0,
   "metadata": {
    "colab": {},
    "colab_type": "code",
    "id": "oUePOIkEafY4"
   },
   "outputs": [],
   "source": []
  }
 ],
 "metadata": {
  "accelerator": "GPU",
  "colab": {
   "collapsed_sections": [],
   "name": "Training.ipynb",
   "provenance": [],
   "toc_visible": true,
   "version": "0.3.2"
  },
  "kernelspec": {
   "display_name": "Python 3",
   "language": "python",
   "name": "python3"
  },
  "language_info": {
   "codemirror_mode": {
    "name": "ipython",
    "version": 3
   },
   "file_extension": ".py",
   "mimetype": "text/x-python",
   "name": "python",
   "nbconvert_exporter": "python",
   "pygments_lexer": "ipython3",
   "version": "3.7.1"
  },
  "toc": {
   "base_numbering": 1,
   "nav_menu": {},
   "number_sections": true,
   "sideBar": true,
   "skip_h1_title": false,
   "title_cell": "Table of Contents",
   "title_sidebar": "Contents",
   "toc_cell": false,
   "toc_position": {},
   "toc_section_display": true,
   "toc_window_display": false
  }
 },
 "nbformat": 4,
 "nbformat_minor": 1
}
